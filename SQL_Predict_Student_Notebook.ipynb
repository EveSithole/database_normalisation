{
 "cells": [
  {
   "cell_type": "markdown",
   "metadata": {
    "id": "kJ9OEzDBgwvw"
   },
   "source": [
    "# SQL 4 Data Science: Predict Project\n",
    "## Bhejane Online Trading Store\n",
    "\n",
    "### Student Starter Notebook\n",
    "\n",
    "© Explore Data Science Academy\n",
    "\n",
    "### Honour Code\n",
    "\n",
    "I {**YOUR NAME**, **YOUR SURNAME**}, confirm - by submitting this document - that the solutions in this notebook are a result of my own work and that I abide by the EDSA honour code (https://drive.google.com/file/d/1QDCjGZJ8-FmJE3bZdIQNwnJyQKPhHZBn/view?usp=sharing).\n",
    "\n",
    "Non-compliance with the honour code constitutes a material breach of contract."
   ]
  },
  {
   "cell_type": "markdown",
   "metadata": {
    "id": "p40FILKTgwvy"
   },
   "source": [
    "<a id='Context'></a>\n",
    "### 1. Context\n",
    "\n",
    "<div align=\"center\" style=\"width: 600px; font-size: 80%; text-align: center; margin: 0 auto\">\n",
    "<img src=\"https://raw.githubusercontent.com/Explore-AI/Pictures/master/Bhejane_large.jpg\"\n",
    "     alt=\"The Black Rhino\"\n",
    "     style=\"float: center; padding-bottom=0.5em\"\n",
    "     width=600px/>\n",
    "     Bhejane, or the Black Rhino. Image by <a href=\"https://commons.wikimedia.org/wiki/File:Black_Rhino_(Diceros_bicornis)_browsing_..._(46584052962).jpg\">Wikimedia Commons</a>\n",
    "</div>\n",
    "\n",
    "\n",
    "The Bhejane trading store is an online retailer specialising in Covid essesstial items. The store has recently be struggling with the management of its database-related inventory system. Luckily for them, you've been hired as a consultant to fix the problem. \n",
    "\n",
    "Its time to flex your Ninja SQL skills! \n",
    " \n",
    "**Your mission, should you choose to accept it:**\n",
    "\n",
    "You will receive a denormalised database consisting of two tables. Your task is to transform the database such that is in third normal form (3NF). To ensure that a consistent normalisation process is followed by each student, we have attached an Entity Relationship Diagram (ERD) which is a guideline on what tables need to be produced. Once you have normalised the databasse, you will be required to complete an MCQ test found under the 'Predict' tab of Athena.  "
   ]
  },
  {
   "cell_type": "markdown",
   "metadata": {
    "id": "4hrluJ8Fgwvz"
   },
   "source": [
    "<a id='Imports'></a>\n",
    "### 2. Imports\n",
    "Please use the below command to install sql_magic, this is the package that will assist you with SQL syntax hightlighting.\n",
    "* pip install sql_magic\n",
    "\n",
    "Remember to start each new cell with \" %%read_sql \""
   ]
  },
  {
   "cell_type": "code",
   "execution_count": 1,
   "metadata": {
    "id": "v_6LpuJDgwvz"
   },
   "outputs": [
    {
     "data": {
      "application/javascript": [
       "\n",
       "    require(['notebook/js/codecell'], function(codecell) {\n",
       "      // https://github.com/jupyter/notebook/issues/2453\n",
       "      codecell.CodeCell.options_default.highlight_modes['magic_text/x-sql'] = {'reg':[/^%read_sql/, /.*=\\s*%read_sql/,\n",
       "                                                                                      /^%%read_sql/]};\n",
       "      Jupyter.notebook.events.one('kernel_ready.Kernel', function(){\n",
       "          console.log('BBBBB');\n",
       "          Jupyter.notebook.get_cells().map(function(cell){\n",
       "              if (cell.cell_type == 'code'){ cell.auto_highlight(); } }) ;\n",
       "      });\n",
       "    });\n",
       "    "
      ]
     },
     "metadata": {},
     "output_type": "display_data"
    }
   ],
   "source": [
    "# DO NOT EDIT THIS CELL\n",
    "import sqlite3\n",
    "import csv\n",
    "from sqlalchemy import create_engine\n",
    "%load_ext sql_magic\n",
    "\n",
    "# Load SQLite database\n",
    "engine  = create_engine(\"sqlite:///bhejane.db\")\n",
    "%config SQL.conn_name ='engine'"
   ]
  },
  {
   "cell_type": "markdown",
   "metadata": {
    "id": "tI8p4seXgwv3"
   },
   "source": [
    "<a id='Data_description'></a>\n",
    "### 3. Data description\n",
    "\n",
    "The original database consist of 2 tables. \n",
    "* Product Table\n",
    "* Transaction Table"
   ]
  },
  {
   "cell_type": "code",
   "execution_count": 2,
   "metadata": {
    "id": "oTb59N4Dgwv4",
    "outputId": "694a9594-2141-47a1-ad6e-f85c2571c355"
   },
   "outputs": [
    {
     "data": {
      "text/html": [
       "<div>\n",
       "<style scoped>\n",
       "    .dataframe tbody tr th:only-of-type {\n",
       "        vertical-align: middle;\n",
       "    }\n",
       "\n",
       "    .dataframe tbody tr th {\n",
       "        vertical-align: top;\n",
       "    }\n",
       "\n",
       "    .dataframe thead th {\n",
       "        text-align: right;\n",
       "    }\n",
       "</style>\n",
       "<table border=\"1\" class=\"dataframe\">\n",
       "  <thead>\n",
       "    <tr style=\"text-align: right;\">\n",
       "      <th></th>\n",
       "      <th>Table Name</th>\n",
       "      <th>Column Name</th>\n",
       "      <th>Desciption</th>\n",
       "    </tr>\n",
       "  </thead>\n",
       "  <tbody>\n",
       "    <tr>\n",
       "      <th>0</th>\n",
       "      <td>Products</td>\n",
       "      <td>Width</td>\n",
       "      <td>Width of the product once assembled</td>\n",
       "    </tr>\n",
       "    <tr>\n",
       "      <th>1</th>\n",
       "      <td>Products</td>\n",
       "      <td>Length</td>\n",
       "      <td>Length of the product once assembled</td>\n",
       "    </tr>\n",
       "    <tr>\n",
       "      <th>2</th>\n",
       "      <td>Products</td>\n",
       "      <td>Height</td>\n",
       "      <td>Height of the product once assembled</td>\n",
       "    </tr>\n",
       "    <tr>\n",
       "      <th>3</th>\n",
       "      <td>Products</td>\n",
       "      <td>Barcode</td>\n",
       "      <td>The unique product identifier</td>\n",
       "    </tr>\n",
       "    <tr>\n",
       "      <th>4</th>\n",
       "      <td>Products</td>\n",
       "      <td>Quantity</td>\n",
       "      <td>Number of goods in stock</td>\n",
       "    </tr>\n",
       "    <tr>\n",
       "      <th>5</th>\n",
       "      <td>Products</td>\n",
       "      <td>Brand</td>\n",
       "      <td>Product brand name relating to product company</td>\n",
       "    </tr>\n",
       "    <tr>\n",
       "      <th>6</th>\n",
       "      <td>Products</td>\n",
       "      <td>NavigationPath</td>\n",
       "      <td>Navigation path to specific product</td>\n",
       "    </tr>\n",
       "    <tr>\n",
       "      <th>7</th>\n",
       "      <td>Products</td>\n",
       "      <td>Colour</td>\n",
       "      <td>Name default colour for the product</td>\n",
       "    </tr>\n",
       "    <tr>\n",
       "      <th>8</th>\n",
       "      <td>Products</td>\n",
       "      <td>StockCountry</td>\n",
       "      <td>Country where the stock was bought from</td>\n",
       "    </tr>\n",
       "    <tr>\n",
       "      <th>9</th>\n",
       "      <td>Products</td>\n",
       "      <td>ProductDescription</td>\n",
       "      <td>Descriptive product name</td>\n",
       "    </tr>\n",
       "    <tr>\n",
       "      <th>10</th>\n",
       "      <td>Products</td>\n",
       "      <td>PackType</td>\n",
       "      <td>The way in which the product is packaged</td>\n",
       "    </tr>\n",
       "    <tr>\n",
       "      <th>11</th>\n",
       "      <td>Products</td>\n",
       "      <td>Volume_litre</td>\n",
       "      <td>The quantity of liquid based products</td>\n",
       "    </tr>\n",
       "    <tr>\n",
       "      <th>12</th>\n",
       "      <td>Products</td>\n",
       "      <td>Warranty</td>\n",
       "      <td>Product warranty type</td>\n",
       "    </tr>\n",
       "    <tr>\n",
       "      <th>13</th>\n",
       "      <td>Products</td>\n",
       "      <td>Weight_kg</td>\n",
       "      <td>Weight of the product</td>\n",
       "    </tr>\n",
       "    <tr>\n",
       "      <th>14</th>\n",
       "      <td>Products</td>\n",
       "      <td>ItemDescription</td>\n",
       "      <td>Description of contents of the package</td>\n",
       "    </tr>\n",
       "    <tr>\n",
       "      <th>15</th>\n",
       "      <td>Products</td>\n",
       "      <td>Price</td>\n",
       "      <td>The cost of the product in Rands</td>\n",
       "    </tr>\n",
       "    <tr>\n",
       "      <th>16</th>\n",
       "      <td>Transactions</td>\n",
       "      <td>CartID</td>\n",
       "      <td>Identifies an individual basket from a user pu...</td>\n",
       "    </tr>\n",
       "    <tr>\n",
       "      <th>17</th>\n",
       "      <td>Transactions</td>\n",
       "      <td>Barcode</td>\n",
       "      <td>Barcode for item that user purchased</td>\n",
       "    </tr>\n",
       "    <tr>\n",
       "      <th>18</th>\n",
       "      <td>Transactions</td>\n",
       "      <td>Total</td>\n",
       "      <td>Total value of a transaction</td>\n",
       "    </tr>\n",
       "    <tr>\n",
       "      <th>19</th>\n",
       "      <td>Transactions</td>\n",
       "      <td>UserName</td>\n",
       "      <td>Name of customer purchasing stock</td>\n",
       "    </tr>\n",
       "    <tr>\n",
       "      <th>20</th>\n",
       "      <td>Transactions</td>\n",
       "      <td>InvoiceDate</td>\n",
       "      <td>Date on which the product was bought</td>\n",
       "    </tr>\n",
       "  </tbody>\n",
       "</table>\n",
       "</div>"
      ],
      "text/plain": [
       "      Table Name         Column Name  \\\n",
       "0       Products               Width   \n",
       "1       Products              Length   \n",
       "2       Products              Height   \n",
       "3       Products             Barcode   \n",
       "4       Products            Quantity   \n",
       "5       Products               Brand   \n",
       "6       Products      NavigationPath   \n",
       "7       Products              Colour   \n",
       "8       Products        StockCountry   \n",
       "9       Products  ProductDescription   \n",
       "10      Products            PackType   \n",
       "11      Products        Volume_litre   \n",
       "12      Products            Warranty   \n",
       "13      Products           Weight_kg   \n",
       "14      Products     ItemDescription   \n",
       "15      Products               Price   \n",
       "16  Transactions              CartID   \n",
       "17  Transactions             Barcode   \n",
       "18  Transactions               Total   \n",
       "19  Transactions            UserName   \n",
       "20  Transactions         InvoiceDate   \n",
       "\n",
       "                                          Desciption   \n",
       "0                 Width of the product once assembled  \n",
       "1                Length of the product once assembled  \n",
       "2                Height of the product once assembled  \n",
       "3                      The unique product identifier   \n",
       "4                            Number of goods in stock  \n",
       "5      Product brand name relating to product company  \n",
       "6                 Navigation path to specific product  \n",
       "7                 Name default colour for the product  \n",
       "8             Country where the stock was bought from  \n",
       "9                            Descriptive product name  \n",
       "10           The way in which the product is packaged  \n",
       "11              The quantity of liquid based products  \n",
       "12                              Product warranty type  \n",
       "13                              Weight of the product  \n",
       "14            Description of contents of the package   \n",
       "15                   The cost of the product in Rands  \n",
       "16  Identifies an individual basket from a user pu...  \n",
       "17               Barcode for item that user purchased  \n",
       "18                      Total value of a transaction   \n",
       "19                  Name of customer purchasing stock  \n",
       "20               Date on which the product was bought  "
      ]
     },
     "execution_count": 2,
     "metadata": {},
     "output_type": "execute_result"
    }
   ],
   "source": [
    "# DO NOT EDIT THIS CELL\n",
    "import pandas as pd\n",
    "data_description = pd.read_excel('Data Description.xlsx')\n",
    "data_description"
   ]
  },
  {
   "cell_type": "markdown",
   "metadata": {
    "id": "bZd01SEagwv7"
   },
   "source": [
    "<a id='Setting_up'></a>\n",
    "### 4. Setting up the database"
   ]
  },
  {
   "cell_type": "code",
   "execution_count": 2,
   "metadata": {},
   "outputs": [],
   "source": [
    "#DO NOT EDIT THIS CELL\n",
    "conn = sqlite3.connect('bhejane.db')\n",
    "cursor = conn.cursor()"
   ]
  },
  {
   "cell_type": "markdown",
   "metadata": {
    "id": "G-WGBpmDgwv-"
   },
   "source": [
    "#### Creating both Products and Transaction Tables"
   ]
  },
  {
   "cell_type": "code",
   "execution_count": 5,
   "metadata": {
    "id": "qp-DQik7gwv-",
    "outputId": "16d1c6b9-fd74-40b1-c8a9-11807656b122"
   },
   "outputs": [
    {
     "name": "stdout",
     "output_type": "stream",
     "text": [
      "Query started at 05:07:06 PM SAST; Query executed in 0.00 m"
     ]
    },
    {
     "data": {
      "text/plain": [
       "<sql_magic.exceptions.EmptyResult at 0x7fd1ac934d30>"
      ]
     },
     "execution_count": 5,
     "metadata": {},
     "output_type": "execute_result"
    }
   ],
   "source": [
    "%%read_sql\n",
    "--DO NOT EDIT THIS CELL\n",
    "DROP TABLE IF EXISTS \"Products\";\n",
    "DROP TABLE IF EXISTS \"Transactions\";\n",
    "\n",
    "CREATE TABLE \"Products\" (\n",
    "    \"Width\"   REAL,\n",
    "    \"Length\"  REAL,\n",
    "    \"Height\"  REAL,\n",
    "    \"Barcode\" VARCHAR(150) NOT NULL,\n",
    "    \"Quantity\" INTEGER NOT NULL,\n",
    "    \"Brand\" VARCHAR(150), \n",
    "    \"NavigationPath\" VARCHAR(150),\n",
    "    \"Colour\" VARCHAR(150),\n",
    "    \"StockCountry\" VARCHAR(150),\n",
    "    \"ProductDescription\" VARCHAR(150) NOT NULL,\n",
    "    \"PackType\" VARCHAR(150), \n",
    "    \"Volume_litre\" REAL, \n",
    "    \"Warranty\" VARCHAR(150), \n",
    "    \"Weight_kg\" REAL,\n",
    "    \"ItemDescription\" VARCHAR(150), \n",
    "    \"Price\" REAL\n",
    ");\n",
    "\n",
    "\n",
    "CREATE TABLE \"Transactions\" (\n",
    "    \"CartID\" INTEGER,\n",
    "    \"Barcode\" VARCHAR(150), \n",
    "    \"Total\" REAL,\n",
    "    \"UserName\" VARCHAR(150), \n",
    "    \"InvoiceDate\" DATETIME\n",
    ");"
   ]
  },
  {
   "cell_type": "markdown",
   "metadata": {
    "id": "m3W5ah4PgwwG"
   },
   "source": [
    "#### Load Data into Product and Transaction tables"
   ]
  },
  {
   "cell_type": "code",
   "execution_count": 6,
   "metadata": {
    "id": "VW_oEkizgwwH"
   },
   "outputs": [],
   "source": [
    "# DO NOT EDIT CELL\n",
    "# Load data into Product table\n",
    "with open('bhejane_covid_essentials_Products.csv','r') as fin: # `with` statement available in 2.5+\n",
    "    # csv.DictReader uses first line in file for column headings by default\n",
    "    dr = csv.DictReader(fin) # comma is default delimiter\n",
    "    to_db = [(i['Width'],i['Length'],i['Height'], i['Barcode'], i['Quantity'], i['Brand'], i['NavigationPath'], i['Colour'], i['StockCountry'], i['ProductDescription'],i['PackType'],i['Volume_litre'],i['Warranty'],i['Weight_kg'],i[\"ItemDescription\"],i['Price']) for i in dr]\n",
    "\n",
    "cursor.executemany(\"INSERT INTO Products VALUES (?, ?, ?, ?, ?, ?, ?, ?, ?, ?, ?, ?, ?, ?, ?, ?);\", to_db)\n",
    "conn.commit()\n",
    "\n",
    "with open('bhejane_covid_essentials_Transactions.csv','r') as fin: # `with` statement available in 2.5+\n",
    "    # csv.DictReader uses first line in file for column headings by default\n",
    "    dr = csv.DictReader(fin) # comma is default delimiter\n",
    "    to_db = [(i['CartID'],i['Barcode'], i['Total'], i['UserName'], i['InvoiceDate']) for i in dr]\n",
    "\n",
    "cursor.executemany(\"INSERT INTO Transactions VALUES (?, ?, ?, ?, ?);\", to_db)\n",
    "conn.commit()"
   ]
  },
  {
   "cell_type": "markdown",
   "metadata": {
    "id": "uo9PWlZtgwwO"
   },
   "source": [
    "<a id='ERD'></a>\n",
    "### 5. Denormalized Database Tables\n",
    "\n",
    "\n",
    "<br>\n",
    "\n",
    "<img src=\"https://raw.githubusercontent.com/Explore-AI/Pictures/master/SQL4DS/SQL_Predict/Denormalized_Tables.png\" alt=\"Denormalized Tables\" border=\"0\">"
   ]
  },
  {
   "cell_type": "markdown",
   "metadata": {},
   "source": [
    "#### 5.1 Explore the Denormalized Tables\n",
    "Familiarize yourself with the data given in the two tables by writing your own SQL queries to explore properties of the dataset.i.e Look for data inconsistencies, anormalies, redundancies etc to guide your normalization process. \n",
    "\n",
    "This section will not be graded - think of it as your own scratch pad.\n",
    "\n"
   ]
  },
  {
   "cell_type": "code",
   "execution_count": 17,
   "metadata": {
    "scrolled": true
   },
   "outputs": [
    {
     "name": "stdout",
     "output_type": "stream",
     "text": [
      "Query started at 05:24:29 PM SAST; Query executed in 0.00 m"
     ]
    },
    {
     "data": {
      "text/html": [
       "<div>\n",
       "<style scoped>\n",
       "    .dataframe tbody tr th:only-of-type {\n",
       "        vertical-align: middle;\n",
       "    }\n",
       "\n",
       "    .dataframe tbody tr th {\n",
       "        vertical-align: top;\n",
       "    }\n",
       "\n",
       "    .dataframe thead th {\n",
       "        text-align: right;\n",
       "    }\n",
       "</style>\n",
       "<table border=\"1\" class=\"dataframe\">\n",
       "  <thead>\n",
       "    <tr style=\"text-align: right;\">\n",
       "      <th></th>\n",
       "      <th>Barcode</th>\n",
       "      <th>NavigationPath</th>\n",
       "      <th>ItemDescription</th>\n",
       "      <th>ProductDescription</th>\n",
       "      <th>Brand</th>\n",
       "      <th>Price</th>\n",
       "      <th>Quantity</th>\n",
       "      <th>PackType</th>\n",
       "      <th>Warranty</th>\n",
       "      <th>StockCountry</th>\n",
       "      <th>Colour</th>\n",
       "      <th>Weight_kg</th>\n",
       "      <th>Volume_litre</th>\n",
       "      <th>Length</th>\n",
       "      <th>Width</th>\n",
       "      <th>Height</th>\n",
       "    </tr>\n",
       "  </thead>\n",
       "  <tbody>\n",
       "    <tr>\n",
       "      <th>0</th>\n",
       "      <td>300507946</td>\n",
       "      <td>Computers &amp; Tablets / Smart Home &amp; Connected L...</td>\n",
       "      <td>1 x Hikvision 1080P Bullet camera</td>\n",
       "      <td>Hikvision 1080P 2MP Turbo HD IR Bullet Camera</td>\n",
       "      <td>Hikvision</td>\n",
       "      <td>399.0</td>\n",
       "      <td>493</td>\n",
       "      <td></td>\n",
       "      <td>Limited (6 months)</td>\n",
       "      <td></td>\n",
       "      <td></td>\n",
       "      <td></td>\n",
       "      <td>0.0</td>\n",
       "      <td></td>\n",
       "      <td></td>\n",
       "      <td></td>\n",
       "    </tr>\n",
       "    <tr>\n",
       "      <th>1</th>\n",
       "      <td>300507946</td>\n",
       "      <td>Computers &amp; Tablets / Smart Home &amp; Connected L...</td>\n",
       "      <td>Manual</td>\n",
       "      <td>Hikvision 1080P 2MP Turbo HD IR Bullet Camera</td>\n",
       "      <td>Hikvision</td>\n",
       "      <td>399.0</td>\n",
       "      <td>493</td>\n",
       "      <td></td>\n",
       "      <td>Limited (6 months)</td>\n",
       "      <td></td>\n",
       "      <td></td>\n",
       "      <td></td>\n",
       "      <td>0.0</td>\n",
       "      <td></td>\n",
       "      <td></td>\n",
       "      <td></td>\n",
       "    </tr>\n",
       "    <tr>\n",
       "      <th>2</th>\n",
       "      <td>10325354918</td>\n",
       "      <td>Fashion / Accessories / Scarves</td>\n",
       "      <td></td>\n",
       "      <td>ZEE 3-in-1 Unisex Gaiter</td>\n",
       "      <td>ZEE</td>\n",
       "      <td>139.0</td>\n",
       "      <td>467</td>\n",
       "      <td></td>\n",
       "      <td>Limited (6 months)</td>\n",
       "      <td></td>\n",
       "      <td>Grey</td>\n",
       "      <td></td>\n",
       "      <td>0.0</td>\n",
       "      <td></td>\n",
       "      <td></td>\n",
       "      <td></td>\n",
       "    </tr>\n",
       "    <tr>\n",
       "      <th>3</th>\n",
       "      <td>27131187035</td>\n",
       "      <td>Beauty / Luxury Beauty / Makeup / Face / Found...</td>\n",
       "      <td></td>\n",
       "      <td>Estee Lauder Double Wear Stay In Place Makeup</td>\n",
       "      <td>Estee Lauder</td>\n",
       "      <td>655.0</td>\n",
       "      <td>275</td>\n",
       "      <td></td>\n",
       "      <td>Non-Returnable</td>\n",
       "      <td>South Africa</td>\n",
       "      <td>Fresco</td>\n",
       "      <td></td>\n",
       "      <td>0.0</td>\n",
       "      <td></td>\n",
       "      <td></td>\n",
       "      <td></td>\n",
       "    </tr>\n",
       "    <tr>\n",
       "      <th>4</th>\n",
       "      <td>27131187035</td>\n",
       "      <td>Beauty / Luxury Beauty / Shop By Brand / Estee...</td>\n",
       "      <td></td>\n",
       "      <td>Estee Lauder Double Wear Stay In Place Makeup</td>\n",
       "      <td>Estee Lauder</td>\n",
       "      <td>655.0</td>\n",
       "      <td>275</td>\n",
       "      <td></td>\n",
       "      <td>Non-Returnable</td>\n",
       "      <td>South Africa</td>\n",
       "      <td>Fresco</td>\n",
       "      <td></td>\n",
       "      <td>0.0</td>\n",
       "      <td></td>\n",
       "      <td></td>\n",
       "      <td></td>\n",
       "    </tr>\n",
       "    <tr>\n",
       "      <th>...</th>\n",
       "      <td>...</td>\n",
       "      <td>...</td>\n",
       "      <td>...</td>\n",
       "      <td>...</td>\n",
       "      <td>...</td>\n",
       "      <td>...</td>\n",
       "      <td>...</td>\n",
       "      <td>...</td>\n",
       "      <td>...</td>\n",
       "      <td>...</td>\n",
       "      <td>...</td>\n",
       "      <td>...</td>\n",
       "      <td>...</td>\n",
       "      <td>...</td>\n",
       "      <td>...</td>\n",
       "      <td>...</td>\n",
       "    </tr>\n",
       "    <tr>\n",
       "      <th>1157</th>\n",
       "      <td>TAL00035388021</td>\n",
       "      <td>Baby &amp; Toddler / Nappies &amp; Changing / Changing...</td>\n",
       "      <td>x 3 Nappy Bin Refills</td>\n",
       "      <td>Angelcare - Nappy Bin Refill - 3 Pack</td>\n",
       "      <td>Angelcare</td>\n",
       "      <td>269.0</td>\n",
       "      <td>220</td>\n",
       "      <td></td>\n",
       "      <td>Limited (6 months)</td>\n",
       "      <td>South Africa</td>\n",
       "      <td>Blue</td>\n",
       "      <td></td>\n",
       "      <td>0.0</td>\n",
       "      <td></td>\n",
       "      <td></td>\n",
       "      <td></td>\n",
       "    </tr>\n",
       "    <tr>\n",
       "      <th>1158</th>\n",
       "      <td>TAL00035388021</td>\n",
       "      <td>Baby &amp; Toddler / Nappies &amp; Changing / Changing...</td>\n",
       "      <td>x 3 Nappy Bin Refills</td>\n",
       "      <td>Angelcare - Nappy Bin Refill - 3 Pack</td>\n",
       "      <td>Angelcare</td>\n",
       "      <td>269.0</td>\n",
       "      <td>220</td>\n",
       "      <td></td>\n",
       "      <td>Limited (6 months)</td>\n",
       "      <td>South Africa</td>\n",
       "      <td>Blue</td>\n",
       "      <td></td>\n",
       "      <td>0.0</td>\n",
       "      <td></td>\n",
       "      <td></td>\n",
       "      <td></td>\n",
       "    </tr>\n",
       "    <tr>\n",
       "      <th>1159</th>\n",
       "      <td>TAL00035388407</td>\n",
       "      <td>Baby &amp; Toddler / Nappies &amp; Changing / Wipes</td>\n",
       "      <td>384 Complete Clean Wipes</td>\n",
       "      <td>Pampers Complete Clean Baby Wipes - 6 x 64 - 3...</td>\n",
       "      <td>Pampers</td>\n",
       "      <td>159.0</td>\n",
       "      <td>130</td>\n",
       "      <td></td>\n",
       "      <td>Non-Returnable (6 months)</td>\n",
       "      <td>South Africa</td>\n",
       "      <td>White</td>\n",
       "      <td></td>\n",
       "      <td>0.0</td>\n",
       "      <td>19,8</td>\n",
       "      <td>21,3</td>\n",
       "      <td>3,2</td>\n",
       "    </tr>\n",
       "    <tr>\n",
       "      <th>1160</th>\n",
       "      <td>TAL00035394505</td>\n",
       "      <td>Computers &amp; Tablets / Smart Home &amp; Connected L...</td>\n",
       "      <td>1 x UPS</td>\n",
       "      <td>RCT 650VA Line Interactive UPS</td>\n",
       "      <td>RCT</td>\n",
       "      <td>675.0</td>\n",
       "      <td>410</td>\n",
       "      <td></td>\n",
       "      <td>Limited (12 months)</td>\n",
       "      <td>South Africa</td>\n",
       "      <td></td>\n",
       "      <td></td>\n",
       "      <td>10,72678</td>\n",
       "      <td></td>\n",
       "      <td></td>\n",
       "      <td></td>\n",
       "    </tr>\n",
       "    <tr>\n",
       "      <th>1161</th>\n",
       "      <td>TAL00035395957</td>\n",
       "      <td>Cameras / Cameras &amp; Lenses / Camera Accessorie...</td>\n",
       "      <td></td>\n",
       "      <td>Fujifilm Instax Film plain - Pack of 10</td>\n",
       "      <td>Fujifilm Instax</td>\n",
       "      <td>155.0</td>\n",
       "      <td>119</td>\n",
       "      <td></td>\n",
       "      <td>Limited (12 months)</td>\n",
       "      <td>South Africa</td>\n",
       "      <td></td>\n",
       "      <td></td>\n",
       "      <td>0.0</td>\n",
       "      <td></td>\n",
       "      <td></td>\n",
       "      <td></td>\n",
       "    </tr>\n",
       "  </tbody>\n",
       "</table>\n",
       "<p>1162 rows × 16 columns</p>\n",
       "</div>"
      ],
      "text/plain": [
       "             Barcode                                     NavigationPath  \\\n",
       "0          300507946  Computers & Tablets / Smart Home & Connected L...   \n",
       "1          300507946  Computers & Tablets / Smart Home & Connected L...   \n",
       "2        10325354918                    Fashion / Accessories / Scarves   \n",
       "3        27131187035  Beauty / Luxury Beauty / Makeup / Face / Found...   \n",
       "4        27131187035  Beauty / Luxury Beauty / Shop By Brand / Estee...   \n",
       "...              ...                                                ...   \n",
       "1157  TAL00035388021  Baby & Toddler / Nappies & Changing / Changing...   \n",
       "1158  TAL00035388021  Baby & Toddler / Nappies & Changing / Changing...   \n",
       "1159  TAL00035388407        Baby & Toddler / Nappies & Changing / Wipes   \n",
       "1160  TAL00035394505  Computers & Tablets / Smart Home & Connected L...   \n",
       "1161  TAL00035395957  Cameras / Cameras & Lenses / Camera Accessorie...   \n",
       "\n",
       "                        ItemDescription  \\\n",
       "0     1 x Hikvision 1080P Bullet camera   \n",
       "1                                Manual   \n",
       "2                                         \n",
       "3                                         \n",
       "4                                         \n",
       "...                                 ...   \n",
       "1157              x 3 Nappy Bin Refills   \n",
       "1158              x 3 Nappy Bin Refills   \n",
       "1159           384 Complete Clean Wipes   \n",
       "1160                            1 x UPS   \n",
       "1161                                      \n",
       "\n",
       "                                     ProductDescription            Brand  \\\n",
       "0         Hikvision 1080P 2MP Turbo HD IR Bullet Camera        Hikvision   \n",
       "1         Hikvision 1080P 2MP Turbo HD IR Bullet Camera        Hikvision   \n",
       "2                              ZEE 3-in-1 Unisex Gaiter              ZEE   \n",
       "3         Estee Lauder Double Wear Stay In Place Makeup     Estee Lauder   \n",
       "4         Estee Lauder Double Wear Stay In Place Makeup     Estee Lauder   \n",
       "...                                                 ...              ...   \n",
       "1157              Angelcare - Nappy Bin Refill - 3 Pack        Angelcare   \n",
       "1158              Angelcare - Nappy Bin Refill - 3 Pack        Angelcare   \n",
       "1159  Pampers Complete Clean Baby Wipes - 6 x 64 - 3...          Pampers   \n",
       "1160                     RCT 650VA Line Interactive UPS              RCT   \n",
       "1161            Fujifilm Instax Film plain - Pack of 10  Fujifilm Instax   \n",
       "\n",
       "      Price  Quantity PackType                   Warranty  StockCountry  \\\n",
       "0     399.0       493                  Limited (6 months)                 \n",
       "1     399.0       493                  Limited (6 months)                 \n",
       "2     139.0       467                  Limited (6 months)                 \n",
       "3     655.0       275                      Non-Returnable  South Africa   \n",
       "4     655.0       275                      Non-Returnable  South Africa   \n",
       "...     ...       ...      ...                        ...           ...   \n",
       "1157  269.0       220                  Limited (6 months)  South Africa   \n",
       "1158  269.0       220                  Limited (6 months)  South Africa   \n",
       "1159  159.0       130           Non-Returnable (6 months)  South Africa   \n",
       "1160  675.0       410                 Limited (12 months)  South Africa   \n",
       "1161  155.0       119                 Limited (12 months)  South Africa   \n",
       "\n",
       "      Colour Weight_kg Volume_litre Length Width Height  \n",
       "0                               0.0                      \n",
       "1                               0.0                      \n",
       "2       Grey                    0.0                      \n",
       "3     Fresco                    0.0                      \n",
       "4     Fresco                    0.0                      \n",
       "...      ...       ...          ...    ...   ...    ...  \n",
       "1157    Blue                    0.0                      \n",
       "1158    Blue                    0.0                      \n",
       "1159   White                    0.0   19,8  21,3    3,2  \n",
       "1160                       10,72678                      \n",
       "1161                            0.0                      \n",
       "\n",
       "[1162 rows x 16 columns]"
      ]
     },
     "execution_count": 17,
     "metadata": {},
     "output_type": "execute_result"
    }
   ],
   "source": [
    "%%read_sql\n",
    "-- #Use this section to explore the database by writing your own queries\n",
    "SELECT distinct Barcode,NavigationPath,ItemDescription,ProductDescription,Brand,\n",
    "       Price,Quantity,PackType,Warranty,StockCountry,Colour,Weight_kg,\n",
    "       Volume_litre,Length,Width,Height\n",
    "       \n",
    "from Products\n",
    "\n",
    "--LIMIT 2;"
   ]
  },
  {
   "cell_type": "markdown",
   "metadata": {},
   "source": [
    "### 6. Normalize the given Database tables to the 1st Normal Form (1NF)\n",
    "\n",
    "Given the below below target ERD create new tables such the the database conforms to the 1st Normal Form\n",
    "\n",
    "<img src=\"https://raw.githubusercontent.com/Explore-AI/Pictures/master/SQL4DS/SQL_Predict/1NF.png\" alt=\"1st Normal Form ERD\" border=\"0\">\n",
    "\n",
    "It is suggested that you create all your tables before attempting to populate them with data, this will help reduce errors that might creep up due to logical dependencies."
   ]
  },
  {
   "cell_type": "markdown",
   "metadata": {},
   "source": [
    "#### 6.1 Create the tables required for the 1st Normal Form\n",
    "Use the above ERD sketch to create the required tables. Please label your tables as they appear in the ERD sketch"
   ]
  },
  {
   "cell_type": "code",
   "execution_count": 9,
   "metadata": {},
   "outputs": [
    {
     "name": "stdout",
     "output_type": "stream",
     "text": [
      "Query started at 05:10:44 PM SAST; Query executed in 0.00 m"
     ]
    },
    {
     "data": {
      "text/plain": [
       "<sql_magic.exceptions.EmptyResult at 0x7fd1ac7d1f10>"
      ]
     },
     "execution_count": 9,
     "metadata": {},
     "output_type": "execute_result"
    }
   ],
   "source": [
    "%%read_sql\n",
    "--#Create tables required for 1NF\n",
    "DROP TABLE IF EXISTS Transactions_1NF;\n",
    "DROP TABLE IF EXISTS Products_1NF;\n",
    "-- Create Transactions_1NF table\n",
    "\n",
    "CREATE TABLE Transactions_1NF(\n",
    "    CartID      INTEGER NOT NULL,\n",
    "    Barcode     VARCHAR(150) NOT NULL,\n",
    "    UserName    VARCHAR(150) NOT NULL,\n",
    "    InvoiceDate DATETIME NOT NULL,\n",
    "    Total       REAL NOT NULL,\n",
    "    \n",
    "    PRIMARY KEY(CartID,Barcode)\n",
    "\n",
    ");\n",
    "\n",
    "-- Create Products_1NF table\n",
    "CREATE TABLE Products_1NF(\n",
    "    Barcode            VARCHAR(150) NOT NULL,\n",
    "    NavigationPath     VARCHAR(150) NOT NULL,\n",
    "    ItemDescription    VARCHAR(150) NOT NULL,\n",
    "    ProductDescription VARCHAR(150) NOT NULL,\n",
    "    Brand              VARCHAR(150),\n",
    "    Price              REAL NOT NULL,\n",
    "    Quantity           INTEGER NOT NULL,\n",
    "    PackType           VARCHAR(150),\n",
    "    Warranty           VARCHAR(150),\n",
    "    StockCountry       VARCHAR(150),\n",
    "    Colour             VARCHAR(150),\n",
    "    Weight_kg          REAL,\n",
    "    Volume_litre       REAL,\n",
    "    Length             REAL,\n",
    "    Width              REAL,\n",
    "    Height             REAL,\n",
    "    \n",
    "    PRIMARY KEY(Barcode,NavigationPath,ItemDescription)\n",
    "    ); \n"
   ]
  },
  {
   "cell_type": "markdown",
   "metadata": {},
   "source": [
    "#### 6.2 Populate the tables you have create in the above section.\n",
    "\n",
    "Populate the tables such that the database conforms to the 1st Normal Form"
   ]
  },
  {
   "cell_type": "code",
   "execution_count": 18,
   "metadata": {},
   "outputs": [
    {
     "name": "stdout",
     "output_type": "stream",
     "text": [
      "Query started at 05:25:31 PM SAST; Query executed in 0.00 m"
     ]
    },
    {
     "data": {
      "text/plain": [
       "<sql_magic.exceptions.EmptyResult at 0x7fd1ac7d1be0>"
      ]
     },
     "execution_count": 18,
     "metadata": {},
     "output_type": "execute_result"
    }
   ],
   "source": [
    "%%read_sql\n",
    "--#Populate the 1NF tables\n",
    " INSERT INTO Transactions_1NF(CartID,Barcode,UserName,InvoiceDate,Total)\n",
    "SELECT distinct CartID, Barcode, UserName, InvoiceDate, Total\n",
    "FROM Transactions;\n",
    "\n",
    "-- Populate Products_1NF table\n",
    "/*Replace the commas (in Weight_kg,Volume_litre,Length,Width,Height) with fullstops\n",
    "in order to make the values consistent.*/\n",
    "\n",
    "INSERT INTO Products_1NF(Barcode,NavigationPath,ItemDescription,ProductDescription,Brand,\n",
    "                         Price,Quantity,PackType,Warranty,StockCountry,Colour,Weight_kg,\n",
    "                         Volume_litre,Length,Width,Height)\n",
    "\n",
    "SELECT distinct Barcode,NavigationPath,ItemDescription,ProductDescription,Brand,\n",
    "       Price,Quantity,PackType,Warranty,StockCountry,Colour,\n",
    "       \n",
    "       Replace(Weight_kg,',','.') AS Weight_kg,\n",
    "       Replace(Volume_litre,',','.') AS Volume_litre,\n",
    "       Replace(Length,',','.') Length,\n",
    "       Replace(Width,',','.') AS Width,\n",
    "       Replace(Height,',','.') AS Height\n",
    "       \n",
    "FROM Products\n",
    "WHERE Length LIKE '%,%' OR Width LIKE '%,%' OR Height LIKE '%,%' OR Weight_kg LIKE '%,%'\n",
    "        OR Volume_litre like '%,%' \n",
    "\n",
    "UNION \n",
    "\n",
    "SELECT distinct Barcode,NavigationPath,ItemDescription,ProductDescription,Brand,\n",
    "       Price,Quantity,PackType,Warranty,StockCountry,Colour,Weight_kg,\n",
    "       Volume_litre,Length,Width,Height\n",
    "FROM Products\n",
    "WHERE Length not LIKE '%,%' and Width not LIKE '%,%' and Height not LIKE '%,%' and Weight_kg not LIKE '%,%'\n",
    "        and Volume_litre not LIKE '%,%' \n",
    "  "
   ]
  },
  {
   "cell_type": "markdown",
   "metadata": {},
   "source": [
    "###  7. Convert the database into its 2nd Normal Form (2NF).\n",
    "\n",
    "Please label your tables as they appear in the ERD sketch.\n",
    "\n",
    "<img src=\"https://raw.githubusercontent.com/Explore-AI/Pictures/master/SQL4DS/SQL_Predict/2NF.png\" alt=\"2nd Normal Form ERD\" border=\"0\">"
   ]
  },
  {
   "cell_type": "code",
   "execution_count": 19,
   "metadata": {},
   "outputs": [
    {
     "name": "stdout",
     "output_type": "stream",
     "text": [
      "Query started at 05:27:20 PM SAST; Query executed in 0.00 m"
     ]
    },
    {
     "data": {
      "text/plain": [
       "<sql_magic.exceptions.EmptyResult at 0x7fd1ac50b520>"
      ]
     },
     "execution_count": 19,
     "metadata": {},
     "output_type": "execute_result"
    }
   ],
   "source": [
    "%%read_sql\n",
    "--#Create tables required for 2NF\n",
    "\n",
    "DROP TABLE IF EXISTS Transactions_2NF;\n",
    "DROP TABLE IF EXISTS Products_2NF;\n",
    "DROP TABLE IF EXISTS Navigation_2NF;\n",
    "DROP TABLE IF EXISTS PackageContents_2NF;\n",
    "DROP TABLE IF EXISTS Colours_2NF;\n",
    "\n",
    "--Create Transactions_2NF table\n",
    "\n",
    "CREATE TABLE Transactions_2NF(\n",
    "    CartID         INTEGER NOT NULL ,\n",
    "    Barcode        VARCHAR(150) NOT NULL,\n",
    "    UserName       VARCHAR(150) NOT NULL,\n",
    "    InvoiceDate    DATETIME NOT NULL,\n",
    "    Total          REAL NOT NULL ,\n",
    "    \n",
    "    PRIMARY KEY(CartID,Barcode)\n",
    "); \n",
    "\n",
    "-- Create Navigation_2NF table\n",
    "CREATE TABLE Navigation_2NF(\n",
    "    PathID          INTEGER NOT NULL, \n",
    "    NavigationPath  VARCHAR(150),\n",
    "    PRIMARY KEY(PathID AUTOINCREMENT)\n",
    "\n",
    ");\n",
    "\n",
    "-- Create PackageContents_2NF table\n",
    "CREATE TABLE PackageContents_2NF(\n",
    "    ItemID            INTEGER NOT NULL,\n",
    "    ItemDescription   VARCHAR(150),\n",
    "    PackType          VARCHAR(150),\n",
    "    Warranty          VARCHAR(150),\n",
    "    PRIMARY KEY(ItemID AUTOINCREMENT)\n",
    "\n",
    ");\n",
    "\n",
    "-- Create Colours_2NF table\n",
    "CREATE TABLE Colours_2NF(\n",
    "    ColourID    INTEGER NOT NULL, \n",
    "    Colour      VARCHAR(150),\n",
    "    PRIMARY KEY(ColourID AUTOINCREMENT)\n",
    "\n",
    ");\n",
    "\n",
    "-- Create Products_2NF table\n",
    "CREATE TABLE Products_2NF(\n",
    "    RegistryID         INTEGER NOT NULL,\n",
    "    Barcode            VARCHAR(150) NOT NULL,\n",
    "    ProductDescription VARCHAR(150) NOT NULL,\n",
    "    Brand              VARCHAR(150),\n",
    "    Price              REAL NOT NULL,\n",
    "    Quantity           INTEGER NOT NULL,\n",
    "    StockCountry       VARCHAR(150),\n",
    "    Weight_kg          REAL,\n",
    "    Volume_litre       REAL,\n",
    "    Length             REAL,\n",
    "    Width              REAL,\n",
    "    Height             REAL,\n",
    "    PathID             INTEGER ,\n",
    "    ItemID             INTEGER ,\n",
    "    ColourID           INTEGER ,\n",
    "    \n",
    "    FOREIGN KEY(Barcode)  REFERENCES Transactions_2NF(Barcode),\n",
    "    FOREIGN KEY(PathID)   REFERENCES Navigation_2NF(PathID),\n",
    "    FOREIGN KEY(ItemID)   REFERENCES PackageContents_2NF(ItemID),\n",
    "    FOREIGN KEY(ColourID) REFERENCES Colours_2NF(ColourID),\n",
    "    PRIMARY KEY(RegistryID AUTOINCREMENT) \n",
    "); "
   ]
  },
  {
   "cell_type": "code",
   "execution_count": 20,
   "metadata": {},
   "outputs": [
    {
     "name": "stdout",
     "output_type": "stream",
     "text": [
      "Query started at 05:29:40 PM SAST; Query executed in 0.00 m"
     ]
    },
    {
     "data": {
      "text/plain": [
       "<sql_magic.exceptions.EmptyResult at 0x7fd1ac50b9a0>"
      ]
     },
     "execution_count": 20,
     "metadata": {},
     "output_type": "execute_result"
    }
   ],
   "source": [
    "%%read_sql\n",
    "-- #Populate the tables so that they conform to 2NF\n",
    "\n",
    "-- #Populate the tables so that they conform to 2NF\n",
    "INSERT INTO Transactions_2NF(CartID,Barcode,UserName,InvoiceDate,Total)\n",
    "SELECT DISTINCT CartID,Barcode,UserName,InvoiceDate,Total\n",
    "FROM Transactions_1NF;\n",
    "\n",
    "-- Populate Navigation_2NF table\n",
    "INSERT INTO Navigation_2NF(NavigationPath)\n",
    "SELECT DISTINCT NavigationPath\n",
    "FROM Products_1NF\n",
    "WHERE NavigationPath != ''; \n",
    "\n",
    "-- Populate PackageContents_2NF table\n",
    "INSERT INTO PackageContents_2NF(ItemDescription,PackType,Warranty)\n",
    "SELECT DISTINCT ItemDescription,PackType,Warranty\n",
    "FROM Products_1NF\n",
    "WHERE ItemDescription !='';\n",
    "\n",
    "-- Populate Colours_2NF table\n",
    "INSERT INTO Colours_2NF(Colour)\n",
    "select distinct Colour\n",
    "from Products_1NF\n",
    "WHERE Colour !=''; \n",
    "\n",
    "-- Populate Products_2NF table\n",
    "\n",
    "INSERT INTO Products_2NF(Barcode,ProductDescription,Brand,Price,Quantity,\n",
    "                         StockCountry,Weight_kg,Volume_litre,Length,Width,Height,\n",
    "                         PathID,ItemID,ColourID )\n",
    "-- \n",
    "\n",
    "select distinct p1.Barcode,ProductDescription,Brand,Price,Quantity,\n",
    "        StockCountry,Weight_kg,Volume_litre,Length,Width,Height,PathID,ItemID,ColourID \n",
    "                         \n",
    "from Products_1NF as p1\n",
    " Left join Navigation_2NF as n2\n",
    "on p1.NavigationPath=n2.NavigationPath\n",
    "  Left join PackageContents_2NF as pc2\n",
    "on p1.ItemDescription=pc2.ItemDescription\n",
    " Left join Colours_2NF as c\n",
    "  on p1.Colour=c.Colour\n",
    "Left join Transactions_2NF as t2\n",
    "on p1.Barcode=t2.Barcode "
   ]
  },
  {
   "cell_type": "markdown",
   "metadata": {
    "id": "2BXpm06CgwwO"
   },
   "source": [
    "<a id='Target_ERD'></a>\n",
    "### 8. Convert the table into its 3rd Normal Form (3NF)\n",
    "\n",
    "Please label your tables as they appear in the ERD sketch\n",
    "\n",
    "<br>\n",
    "\n",
    "<img src=\"https://raw.githubusercontent.com/Explore-AI/Pictures/master/SQL4DS/SQL_Predict/3NF.png\" alt=\"3rd Normal Form ERD\" border=\"0\"></a>"
   ]
  },
  {
   "cell_type": "code",
   "execution_count": 22,
   "metadata": {
    "id": "nSceV8iQgwwP",
    "outputId": "8f243bda-2032-4c7b-9c58-e6110cdb9505"
   },
   "outputs": [
    {
     "name": "stdout",
     "output_type": "stream",
     "text": [
      "Query started at 05:32:38 PM SAST; Query executed in 0.00 m"
     ]
    },
    {
     "data": {
      "text/plain": [
       "<sql_magic.exceptions.EmptyResult at 0x7fd1ac4d8d60>"
      ]
     },
     "execution_count": 22,
     "metadata": {},
     "output_type": "execute_result"
    }
   ],
   "source": [
    "%%read_sql\n",
    "\n",
    "--#Create tables required for 2NF\n",
    "\n",
    "DROP TABLE IF EXISTS Transactions_3NF;\n",
    "DROP TABLE IF EXISTS Products_3NF;\n",
    "DROP TABLE IF EXISTS Navigation_3NF;\n",
    "DROP TABLE IF EXISTS PackageContents_3NF;\n",
    "DROP TABLE IF EXISTS Colours_3NF;\n",
    "DROP TABLE IF EXISTS Users_3NF;\n",
    "DROP TABLE IF EXISTS Brands_3NF;\n",
    "DROP TABLE IF EXISTS Locations_3NF; \n",
    "\n",
    "-- Create Navigation_3NF table\n",
    "CREATE TABLE Navigation_3NF AS \n",
    "   SELECT * FROM Navigation_2NF; \n",
    "\n",
    "\n",
    "-- Create PackageContents_3NF table\n",
    "CREATE TABLE PackageContents_3NF AS\n",
    "  SELECT * FROM PackageContents_2NF;\n",
    "\n",
    "-- Create Colours_3NF table\n",
    "CREATE TABLE Colours_3NF AS\n",
    "  SELECT * FROM Colours_2NF;\n",
    "\n",
    "--Create Transactions_3NF table\n",
    "CREATE TABLE Transactions_3NF(\n",
    "    CartID         INTEGER NOT NULL,\n",
    "    Barcode        VARCHAR(150) NOT NULL,\n",
    "    UserID         INTEGER NOT NULL,\n",
    "    InvoiceDate    DATETIME NOT NULL,\n",
    "    Total          REAL NOT NULL,\n",
    "    \n",
    "    FOREIGN KEY(UserID) REFERENCES Users_3NF(UserID),\n",
    "    PRIMARY KEY(CartID,Barcode)\n",
    ");\n",
    "\n",
    "\n",
    "--Create Users_3NF table\n",
    "CREATE TABLE Users_3NF(\n",
    "    UserID    INTEGER NOT NULL,\n",
    "    UserName  VARCHAR(150) NOT NULL,\n",
    "    PRIMARY KEY(UserID AUTOINCREMENT)\n",
    ");\n",
    "\n",
    "\n",
    "-- Create Brands_3NF table\n",
    "CREATE TABLE Brands_3NF(\n",
    "    BrandID    INTEGER NOT NULL,\n",
    "    Brand      VARCHAR(150),\n",
    "    PRIMARY KEY(BrandID AUTOINCREMENT)\n",
    ");\n",
    "\n",
    "-- Create Locations_3NF table\n",
    "CREATE TABLE Locations_3NF(\n",
    "    LocationID     INTEGER NOT NULL,\n",
    "    StockCountry   VARCHAR(150),\n",
    "    PRIMARY KEY(LocationID AUTOINCREMENT)\n",
    ");\n",
    "\n",
    "-- Create Products_3NF table\n",
    "CREATE TABLE Products_3NF(\n",
    "    RegistryID         INTEGER NOT NULL, \n",
    "    Barcode            VARCHAR(150) NOT NULL,\n",
    "    ProductDescription VARCHAR(150) NOT NULL,\n",
    "    Price              REAL NOT NULL,\n",
    "    Quantity           INTEGER NOT NULL,\n",
    "    Weight_kg          REAL,\n",
    "    Volume_litre       REAL,\n",
    "    Length             REAL,\n",
    "    Width              REAL,\n",
    "    Height             REAL,\n",
    "    PathID            INTEGER,\n",
    "    ItemID            INTEGER,\n",
    "    ColourID          INTEGER,\n",
    "    BrandID           INTEGER,\n",
    "    LocationID        INTEGER,\n",
    "    \n",
    "    FOREIGN KEY(Barcode)     REFERENCES Transactions_3NF(Barcode)\n",
    "    FOREIGN KEY(PathID)      REFERENCES Navigation_3NF(PathID),\n",
    "    FOREIGN KEY(ItemID)      REFERENCES PackageContents_3NF(ItemID),\n",
    "    FOREIGN KEY(ColourID)    REFERENCES Colours_3NF(ColourID),\n",
    "    FOREIGN KEY(BrandID)     REFERENCES Brands_3NF(BrandID),\n",
    "    FOREIGN KEY(LocationID)  REFERENCES Locations_3NF(LocationID),\n",
    "    PRIMARY KEY(RegistryID AUTOINCREMENT)\n",
    "); \n"
   ]
  },
  {
   "cell_type": "code",
   "execution_count": 32,
   "metadata": {
    "id": "j-neINIfgwwS",
    "outputId": "1404360c-952a-41f6-9b72-56e67f731fbd"
   },
   "outputs": [
    {
     "name": "stdout",
     "output_type": "stream",
     "text": [
      "Query started at 05:38:58 PM SAST; Query executed in 0.00 m"
     ]
    },
    {
     "data": {
      "text/plain": [
       "<sql_magic.exceptions.EmptyResult at 0x7fd1ac4dda90>"
      ]
     },
     "execution_count": 32,
     "metadata": {},
     "output_type": "execute_result"
    }
   ],
   "source": [
    "%%read_sql\n",
    "\n",
    "--# Populate the tables to that they conform to the 3rd Normal Form\n",
    "-- Populate the Users_3NF table\n",
    "INSERT INTO Users_3NF (UserName)\n",
    "SELECT DISTINCT UserName \n",
    "FROM Transactions_2NF\n",
    "WHERE UserName != '';\n",
    "\n",
    "-- Populate the Brands_3NF table\n",
    "INSERT INTO Brands_3NF (Brand)\n",
    "SELECT DISTINCT Brand \n",
    "FROM Products_2NF\n",
    "WHERE Brand != '';\n",
    "\n",
    "-- Populate the Locations_3NF table\n",
    "INSERT INTO Locations_3NF (StockCountry)\n",
    "SELECT DISTINCT StockCountry \n",
    "FROM Products_2NF\n",
    "WHERE StockCountry != ''; \n",
    "\n",
    "-- Populate the Transactions_3NF table\n",
    "INSERT INTO Transactions_3NF(CartID,Barcode,UserID,InvoiceDate,Total)\n",
    "SELECT Distinct CartID,Barcode,UserID,InvoiceDate,Total \n",
    "FROM Transactions_2NF as t\n",
    "join Users_3NF as u\n",
    " on t.UserName=u.UserName;\n",
    "\n",
    " -- Populate the Products_3NF\n",
    "INSERT INTO Products_3NF(Barcode,ProductDescription,Price,Quantity,Weight_kg,\n",
    "                          Volume_litre,Length,Width,Height,PathID,ItemID,ColourID,BrandID,LocationID)\n",
    "               \n",
    "SELECT Distinct prod2.Barcode,ProductDescription,Price,Quantity,Weight_kg,\n",
    "       Volume_litre,Length,Width,Height,prod2.PathID,prod2.ItemID,\n",
    "       prod2.ColourID,BrandID,LocationID\n",
    "      \n",
    "       \n",
    "FROM Products_2NF as prod2\n",
    "left JOIN Transactions_3NF as t3 on prod2.Barcode=t3.Barcode\n",
    "\n",
    "left JOIN Navigation_3NF as n3 on prod2.PathID=n3.PathID\n",
    "\n",
    "left JOIN PackageContents_3NF as pc3 on prod2.ItemID=pc3.ItemID\n",
    "\n",
    "left JOIN Colours_3NF as c on prod2.ColourID=c.ColourID\n",
    "\n",
    "left JOIN Brands_3NF as b on prod2.Brand=b.Brand \n",
    "\n",
    "left JOIN Locations_3NF as l on prod2.StockCountry=l.StockCountry;\n",
    "  \n"
   ]
  },
  {
   "cell_type": "markdown",
   "metadata": {
    "id": "zMvJZFQsGE03"
   },
   "source": [
    "<a id='MCQ_questions'></a>\n",
    "## 9. MCQ Questions\n",
    "\n",
    "Having completed the normalisation of the database, you may use the following cells to help you answer the MCQs for the predict. "
   ]
  },
  {
   "cell_type": "markdown",
   "metadata": {
    "id": "hEVNjuirGE03"
   },
   "source": [
    "Q1) How many unique products does the company have?"
   ]
  },
  {
   "cell_type": "code",
   "execution_count": 178,
   "metadata": {
    "id": "y3hoYpGxGE03"
   },
   "outputs": [
    {
     "name": "stdout",
     "output_type": "stream",
     "text": [
      "Query started at 09:43:17 PM SAST; Query executed in 0.00 m"
     ]
    },
    {
     "data": {
      "text/html": [
       "<div>\n",
       "<style scoped>\n",
       "    .dataframe tbody tr th:only-of-type {\n",
       "        vertical-align: middle;\n",
       "    }\n",
       "\n",
       "    .dataframe tbody tr th {\n",
       "        vertical-align: top;\n",
       "    }\n",
       "\n",
       "    .dataframe thead th {\n",
       "        text-align: right;\n",
       "    }\n",
       "</style>\n",
       "<table border=\"1\" class=\"dataframe\">\n",
       "  <thead>\n",
       "    <tr style=\"text-align: right;\">\n",
       "      <th></th>\n",
       "      <th>count(RegistryID)</th>\n",
       "    </tr>\n",
       "  </thead>\n",
       "  <tbody>\n",
       "    <tr>\n",
       "      <th>0</th>\n",
       "      <td>1214</td>\n",
       "    </tr>\n",
       "  </tbody>\n",
       "</table>\n",
       "</div>"
      ],
      "text/plain": [
       "   count(RegistryID)\n",
       "0               1214"
      ]
     },
     "execution_count": 178,
     "metadata": {},
     "output_type": "execute_result"
    }
   ],
   "source": [
    "%%read_sql\n",
    "-- Write your query here:\n",
    "select count(RegistryID)\n",
    "from Products_3NF"
   ]
  },
  {
   "cell_type": "markdown",
   "metadata": {
    "id": "WsQZQ8tuGE03"
   },
   "source": [
    "Q2) How many users bought from Bhejane in April 2020?"
   ]
  },
  {
   "cell_type": "code",
   "execution_count": 186,
   "metadata": {
    "id": "hFz7XUw_GE04"
   },
   "outputs": [
    {
     "name": "stdout",
     "output_type": "stream",
     "text": [
      "Query started at 09:50:11 PM SAST; Query executed in 0.00 m"
     ]
    },
    {
     "data": {
      "text/html": [
       "<div>\n",
       "<style scoped>\n",
       "    .dataframe tbody tr th:only-of-type {\n",
       "        vertical-align: middle;\n",
       "    }\n",
       "\n",
       "    .dataframe tbody tr th {\n",
       "        vertical-align: top;\n",
       "    }\n",
       "\n",
       "    .dataframe thead th {\n",
       "        text-align: right;\n",
       "    }\n",
       "</style>\n",
       "<table border=\"1\" class=\"dataframe\">\n",
       "  <thead>\n",
       "    <tr style=\"text-align: right;\">\n",
       "      <th></th>\n",
       "      <th>count(DISTINCT UserID)</th>\n",
       "    </tr>\n",
       "  </thead>\n",
       "  <tbody>\n",
       "    <tr>\n",
       "      <th>0</th>\n",
       "      <td>30</td>\n",
       "    </tr>\n",
       "  </tbody>\n",
       "</table>\n",
       "</div>"
      ],
      "text/plain": [
       "   count(DISTINCT UserID)\n",
       "0                      30"
      ]
     },
     "execution_count": 186,
     "metadata": {},
     "output_type": "execute_result"
    }
   ],
   "source": [
    "%%read_sql\n",
    "-- Write your query here:\n",
    "--Please note that i could not get the listed answers so i picked the closest tothe one i have. \n",
    "select count(DISTINCT UserID)\n",
    "FROM Transactions_3NF \n",
    "where InvoiceDate >= '2020-04-01' AND InvoiceDate <= '2020-04-30'\n"
   ]
  },
  {
   "cell_type": "markdown",
   "metadata": {
    "id": "iBRifthWGE04"
   },
   "source": [
    "Q3) How many users bought three or more items whose combined total was more than R1000 in a single transaction?"
   ]
  },
  {
   "cell_type": "code",
   "execution_count": 175,
   "metadata": {
    "id": "NURR7Ue9GE04"
   },
   "outputs": [
    {
     "name": "stdout",
     "output_type": "stream",
     "text": [
      "Query started at 09:40:24 PM SAST; Query executed in 0.00 m"
     ]
    },
    {
     "data": {
      "text/html": [
       "<div>\n",
       "<style scoped>\n",
       "    .dataframe tbody tr th:only-of-type {\n",
       "        vertical-align: middle;\n",
       "    }\n",
       "\n",
       "    .dataframe tbody tr th {\n",
       "        vertical-align: top;\n",
       "    }\n",
       "\n",
       "    .dataframe thead th {\n",
       "        text-align: right;\n",
       "    }\n",
       "</style>\n",
       "<table border=\"1\" class=\"dataframe\">\n",
       "  <thead>\n",
       "    <tr style=\"text-align: right;\">\n",
       "      <th></th>\n",
       "      <th>count(UserID)</th>\n",
       "    </tr>\n",
       "  </thead>\n",
       "  <tbody>\n",
       "    <tr>\n",
       "      <th>0</th>\n",
       "      <td>12</td>\n",
       "    </tr>\n",
       "  </tbody>\n",
       "</table>\n",
       "</div>"
      ],
      "text/plain": [
       "   count(UserID)\n",
       "0             12"
      ]
     },
     "execution_count": 175,
     "metadata": {},
     "output_type": "execute_result"
    }
   ],
   "source": [
    "%%read_sql\n",
    "-- Write your query here:\n",
    "/*PLease note that i couldnt get any of the listed answers so i picked the closest to the one i have */\n",
    "With CTE AS(\n",
    "select UserID,count(Barcode) as c,Total\n",
    "FROM Transactions_3NF\n",
    "group by UserID\n",
    "having c>=3 and Total>1000)\n",
    "\n",
    "SELECT count(UserID)\n",
    "from CTE\n"
   ]
  },
  {
   "cell_type": "markdown",
   "metadata": {
    "id": "9_-usJoSGE04"
   },
   "source": [
    "Q4) Which user(s) made the largest purchase on a sinlge transaction?"
   ]
  },
  {
   "cell_type": "code",
   "execution_count": 126,
   "metadata": {
    "id": "3i7wS1jJGE04",
    "scrolled": true
   },
   "outputs": [
    {
     "name": "stdout",
     "output_type": "stream",
     "text": [
      "Query started at 08:11:39 PM SAST; Query executed in 0.00 m"
     ]
    },
    {
     "data": {
      "text/html": [
       "<div>\n",
       "<style scoped>\n",
       "    .dataframe tbody tr th:only-of-type {\n",
       "        vertical-align: middle;\n",
       "    }\n",
       "\n",
       "    .dataframe tbody tr th {\n",
       "        vertical-align: top;\n",
       "    }\n",
       "\n",
       "    .dataframe thead th {\n",
       "        text-align: right;\n",
       "    }\n",
       "</style>\n",
       "<table border=\"1\" class=\"dataframe\">\n",
       "  <thead>\n",
       "    <tr style=\"text-align: right;\">\n",
       "      <th></th>\n",
       "      <th>CartID</th>\n",
       "      <th>UserID</th>\n",
       "      <th>UserName</th>\n",
       "      <th>Total</th>\n",
       "    </tr>\n",
       "  </thead>\n",
       "  <tbody>\n",
       "    <tr>\n",
       "      <th>0</th>\n",
       "      <td>123</td>\n",
       "      <td>11</td>\n",
       "      <td>Mandla</td>\n",
       "      <td>10999.0</td>\n",
       "    </tr>\n",
       "    <tr>\n",
       "      <th>1</th>\n",
       "      <td>124</td>\n",
       "      <td>47</td>\n",
       "      <td>Brigette</td>\n",
       "      <td>10999.0</td>\n",
       "    </tr>\n",
       "    <tr>\n",
       "      <th>2</th>\n",
       "      <td>125</td>\n",
       "      <td>45</td>\n",
       "      <td>Andreas Peter</td>\n",
       "      <td>3765.0</td>\n",
       "    </tr>\n",
       "    <tr>\n",
       "      <th>3</th>\n",
       "      <td>126</td>\n",
       "      <td>120</td>\n",
       "      <td>Mzoxolo</td>\n",
       "      <td>3765.0</td>\n",
       "    </tr>\n",
       "    <tr>\n",
       "      <th>4</th>\n",
       "      <td>179</td>\n",
       "      <td>4</td>\n",
       "      <td>Zanele</td>\n",
       "      <td>3464.0</td>\n",
       "    </tr>\n",
       "    <tr>\n",
       "      <th>...</th>\n",
       "      <td>...</td>\n",
       "      <td>...</td>\n",
       "      <td>...</td>\n",
       "      <td>...</td>\n",
       "    </tr>\n",
       "    <tr>\n",
       "      <th>273</th>\n",
       "      <td>39</td>\n",
       "      <td>57</td>\n",
       "      <td>Wayne</td>\n",
       "      <td>23.0</td>\n",
       "    </tr>\n",
       "    <tr>\n",
       "      <th>274</th>\n",
       "      <td>44</td>\n",
       "      <td>59</td>\n",
       "      <td>Janine</td>\n",
       "      <td>13.0</td>\n",
       "    </tr>\n",
       "    <tr>\n",
       "      <th>275</th>\n",
       "      <td>60</td>\n",
       "      <td>12</td>\n",
       "      <td>Cindy</td>\n",
       "      <td>12.0</td>\n",
       "    </tr>\n",
       "    <tr>\n",
       "      <th>276</th>\n",
       "      <td>93</td>\n",
       "      <td>110</td>\n",
       "      <td>Michelle</td>\n",
       "      <td>10.0</td>\n",
       "    </tr>\n",
       "    <tr>\n",
       "      <th>277</th>\n",
       "      <td>37</td>\n",
       "      <td>54</td>\n",
       "      <td>Ridhaa</td>\n",
       "      <td>1.0</td>\n",
       "    </tr>\n",
       "  </tbody>\n",
       "</table>\n",
       "<p>278 rows × 4 columns</p>\n",
       "</div>"
      ],
      "text/plain": [
       "     CartID  UserID       UserName    Total\n",
       "0       123      11         Mandla  10999.0\n",
       "1       124      47       Brigette  10999.0\n",
       "2       125      45  Andreas Peter   3765.0\n",
       "3       126     120        Mzoxolo   3765.0\n",
       "4       179       4         Zanele   3464.0\n",
       "..      ...     ...            ...      ...\n",
       "273      39      57          Wayne     23.0\n",
       "274      44      59         Janine     13.0\n",
       "275      60      12          Cindy     12.0\n",
       "276      93     110       Michelle     10.0\n",
       "277      37      54         Ridhaa      1.0\n",
       "\n",
       "[278 rows x 4 columns]"
      ]
     },
     "execution_count": 126,
     "metadata": {},
     "output_type": "execute_result"
    }
   ],
   "source": [
    "%%read_sql\n",
    "-- Write your query here\n",
    "select CartID,UserID,UserName,Total\n",
    "FROM Transactions_3NF\n",
    "join Users_3NF \n",
    " USING(UserID)\n",
    "order by Total DESC\n"
   ]
  },
  {
   "cell_type": "markdown",
   "metadata": {
    "id": "Ik1EeR1dGE04"
   },
   "source": [
    "Q5) How many components does the product: \"5m Colour Changing RGB LED Strip Light\" (MPTAL57588104) come with?"
   ]
  },
  {
   "cell_type": "code",
   "execution_count": 52,
   "metadata": {
    "id": "BhTlfGsyGE04"
   },
   "outputs": [
    {
     "name": "stdout",
     "output_type": "stream",
     "text": [
      "Query started at 06:05:35 PM SAST; Query executed in 0.00 m"
     ]
    },
    {
     "data": {
      "text/html": [
       "<div>\n",
       "<style scoped>\n",
       "    .dataframe tbody tr th:only-of-type {\n",
       "        vertical-align: middle;\n",
       "    }\n",
       "\n",
       "    .dataframe tbody tr th {\n",
       "        vertical-align: top;\n",
       "    }\n",
       "\n",
       "    .dataframe thead th {\n",
       "        text-align: right;\n",
       "    }\n",
       "</style>\n",
       "<table border=\"1\" class=\"dataframe\">\n",
       "  <thead>\n",
       "    <tr style=\"text-align: right;\">\n",
       "      <th></th>\n",
       "      <th>COUNT(distinct ItemDescription)</th>\n",
       "    </tr>\n",
       "  </thead>\n",
       "  <tbody>\n",
       "    <tr>\n",
       "      <th>0</th>\n",
       "      <td>4</td>\n",
       "    </tr>\n",
       "  </tbody>\n",
       "</table>\n",
       "</div>"
      ],
      "text/plain": [
       "   COUNT(distinct ItemDescription)\n",
       "0                                4"
      ]
     },
     "execution_count": 52,
     "metadata": {},
     "output_type": "execute_result"
    }
   ],
   "source": [
    "%%read_sql\n",
    "-- Write your query here\n",
    "select COUNT(distinct ItemDescription)\n",
    "FROM Products_3NF \n",
    "JOIN PackageContents_3NF\n",
    "USING(ItemID)\n",
    "\n",
    "WHERE Barcode='MPTAL57588104'"
   ]
  },
  {
   "cell_type": "markdown",
   "metadata": {
    "id": "CLNf-BoGGE04"
   },
   "source": [
    "Q6) How many brands are available at Bhejane?"
   ]
  },
  {
   "cell_type": "code",
   "execution_count": 159,
   "metadata": {
    "id": "afrVCqnYGE04"
   },
   "outputs": [
    {
     "name": "stdout",
     "output_type": "stream",
     "text": [
      "Query started at 09:13:35 PM SAST; Query executed in 0.00 m"
     ]
    },
    {
     "data": {
      "text/html": [
       "<div>\n",
       "<style scoped>\n",
       "    .dataframe tbody tr th:only-of-type {\n",
       "        vertical-align: middle;\n",
       "    }\n",
       "\n",
       "    .dataframe tbody tr th {\n",
       "        vertical-align: top;\n",
       "    }\n",
       "\n",
       "    .dataframe thead th {\n",
       "        text-align: right;\n",
       "    }\n",
       "</style>\n",
       "<table border=\"1\" class=\"dataframe\">\n",
       "  <thead>\n",
       "    <tr style=\"text-align: right;\">\n",
       "      <th></th>\n",
       "      <th>count(BrandID)</th>\n",
       "    </tr>\n",
       "  </thead>\n",
       "  <tbody>\n",
       "    <tr>\n",
       "      <th>0</th>\n",
       "      <td>232</td>\n",
       "    </tr>\n",
       "  </tbody>\n",
       "</table>\n",
       "</div>"
      ],
      "text/plain": [
       "   count(BrandID)\n",
       "0             232"
      ]
     },
     "execution_count": 159,
     "metadata": {},
     "output_type": "execute_result"
    }
   ],
   "source": [
    "%%read_sql\n",
    "-- Write your query here:\n",
    "select count(BrandID)\n",
    "from Brands_3NF"
   ]
  },
  {
   "cell_type": "markdown",
   "metadata": {
    "id": "B4usZSh1GE04"
   },
   "source": [
    "7) What is the price of the \"Verimark - Floorwiz 2in1 Mop\"?"
   ]
  },
  {
   "cell_type": "code",
   "execution_count": 53,
   "metadata": {
    "id": "8xipCT9JGE04"
   },
   "outputs": [
    {
     "name": "stdout",
     "output_type": "stream",
     "text": [
      "Query started at 06:07:46 PM SAST; Query executed in 0.00 m"
     ]
    },
    {
     "data": {
      "text/html": [
       "<div>\n",
       "<style scoped>\n",
       "    .dataframe tbody tr th:only-of-type {\n",
       "        vertical-align: middle;\n",
       "    }\n",
       "\n",
       "    .dataframe tbody tr th {\n",
       "        vertical-align: top;\n",
       "    }\n",
       "\n",
       "    .dataframe thead th {\n",
       "        text-align: right;\n",
       "    }\n",
       "</style>\n",
       "<table border=\"1\" class=\"dataframe\">\n",
       "  <thead>\n",
       "    <tr style=\"text-align: right;\">\n",
       "      <th></th>\n",
       "      <th>Price</th>\n",
       "    </tr>\n",
       "  </thead>\n",
       "  <tbody>\n",
       "    <tr>\n",
       "      <th>0</th>\n",
       "      <td>179.0</td>\n",
       "    </tr>\n",
       "    <tr>\n",
       "      <th>1</th>\n",
       "      <td>179.0</td>\n",
       "    </tr>\n",
       "    <tr>\n",
       "      <th>2</th>\n",
       "      <td>179.0</td>\n",
       "    </tr>\n",
       "  </tbody>\n",
       "</table>\n",
       "</div>"
      ],
      "text/plain": [
       "   Price\n",
       "0  179.0\n",
       "1  179.0\n",
       "2  179.0"
      ]
     },
     "execution_count": 53,
     "metadata": {},
     "output_type": "execute_result"
    }
   ],
   "source": [
    "%%read_sql\n",
    "-- Write your query here:\n",
    "SELECT Price\n",
    "from Products_3NF\n",
    "where ProductDescription='Verimark - Floorwiz 2in1 Mop'"
   ]
  },
  {
   "cell_type": "markdown",
   "metadata": {
    "id": "BGaE5N7nGE04"
   },
   "source": [
    "Q8) Calculate the package volume of the \"Russell Hobbs - Slow Cooker\" using the given dimensions. Round your answer to the nearest integer and ignore units for the calculation."
   ]
  },
  {
   "cell_type": "code",
   "execution_count": 169,
   "metadata": {
    "id": "4pOPg-jAGE04"
   },
   "outputs": [
    {
     "name": "stdout",
     "output_type": "stream",
     "text": [
      "Query started at 09:31:28 PM SAST; Query executed in 0.00 m"
     ]
    },
    {
     "data": {
      "text/html": [
       "<div>\n",
       "<style scoped>\n",
       "    .dataframe tbody tr th:only-of-type {\n",
       "        vertical-align: middle;\n",
       "    }\n",
       "\n",
       "    .dataframe tbody tr th {\n",
       "        vertical-align: top;\n",
       "    }\n",
       "\n",
       "    .dataframe thead th {\n",
       "        text-align: right;\n",
       "    }\n",
       "</style>\n",
       "<table border=\"1\" class=\"dataframe\">\n",
       "  <thead>\n",
       "    <tr style=\"text-align: right;\">\n",
       "      <th></th>\n",
       "      <th>Length</th>\n",
       "      <th>Width</th>\n",
       "      <th>Height</th>\n",
       "      <th>volume</th>\n",
       "    </tr>\n",
       "  </thead>\n",
       "  <tbody>\n",
       "    <tr>\n",
       "      <th>0</th>\n",
       "      <td>24.0</td>\n",
       "      <td>34.0</td>\n",
       "      <td>33.4</td>\n",
       "      <td>27254.4</td>\n",
       "    </tr>\n",
       "    <tr>\n",
       "      <th>1</th>\n",
       "      <td>24.0</td>\n",
       "      <td>34.0</td>\n",
       "      <td>33.4</td>\n",
       "      <td>27254.4</td>\n",
       "    </tr>\n",
       "    <tr>\n",
       "      <th>2</th>\n",
       "      <td>24.0</td>\n",
       "      <td>34.0</td>\n",
       "      <td>33.4</td>\n",
       "      <td>27254.4</td>\n",
       "    </tr>\n",
       "    <tr>\n",
       "      <th>3</th>\n",
       "      <td>24.0</td>\n",
       "      <td>34.0</td>\n",
       "      <td>33.4</td>\n",
       "      <td>27254.4</td>\n",
       "    </tr>\n",
       "  </tbody>\n",
       "</table>\n",
       "</div>"
      ],
      "text/plain": [
       "   Length  Width  Height   volume\n",
       "0    24.0   34.0    33.4  27254.4\n",
       "1    24.0   34.0    33.4  27254.4\n",
       "2    24.0   34.0    33.4  27254.4\n",
       "3    24.0   34.0    33.4  27254.4"
      ]
     },
     "execution_count": 169,
     "metadata": {},
     "output_type": "execute_result"
    }
   ],
   "source": [
    "%%read_sql\n",
    "-- Write your query here:\n",
    "/*Please note that i coudnt get any of the answers given in the multiple\n",
    "choice and so i picked the closest answer to what i have which is 26928 on the listed answers*/\n",
    "\n",
    "select Length,Width,Height, (Length*Width*Height) as volume\n",
    "from Products_3NF\n",
    "JOIN PackageContents_3NF USING(ItemID)\n",
    "WHERE ProductDescription = 'Russell Hobbs - Slow Cooker'\n",
    "\n"
   ]
  },
  {
   "cell_type": "markdown",
   "metadata": {
    "id": "ZDogodiAGE04"
   },
   "source": [
    "Q9) Which user made the most transactions in the Year 2020?"
   ]
  },
  {
   "cell_type": "code",
   "execution_count": 65,
   "metadata": {
    "id": "PVUj_9THGE04"
   },
   "outputs": [
    {
     "name": "stdout",
     "output_type": "stream",
     "text": [
      "Query started at 06:48:30 PM SAST; Query executed in 0.00 m"
     ]
    },
    {
     "data": {
      "text/html": [
       "<div>\n",
       "<style scoped>\n",
       "    .dataframe tbody tr th:only-of-type {\n",
       "        vertical-align: middle;\n",
       "    }\n",
       "\n",
       "    .dataframe tbody tr th {\n",
       "        vertical-align: top;\n",
       "    }\n",
       "\n",
       "    .dataframe thead th {\n",
       "        text-align: right;\n",
       "    }\n",
       "</style>\n",
       "<table border=\"1\" class=\"dataframe\">\n",
       "  <thead>\n",
       "    <tr style=\"text-align: right;\">\n",
       "      <th></th>\n",
       "      <th>UserName</th>\n",
       "      <th>userID</th>\n",
       "      <th>max(c)</th>\n",
       "    </tr>\n",
       "  </thead>\n",
       "  <tbody>\n",
       "    <tr>\n",
       "      <th>0</th>\n",
       "      <td>Cornelis</td>\n",
       "      <td>21</td>\n",
       "      <td>9</td>\n",
       "    </tr>\n",
       "  </tbody>\n",
       "</table>\n",
       "</div>"
      ],
      "text/plain": [
       "   UserName  userID  max(c)\n",
       "0  Cornelis      21       9"
      ]
     },
     "execution_count": 65,
     "metadata": {},
     "output_type": "execute_result"
    }
   ],
   "source": [
    "%%read_sql\n",
    "-- Write your query here:\n",
    "WITH CTE AS(\n",
    " select userID,COUNT(Barcode) as c \n",
    " from Transactions_3NF\n",
    " where SUBSTR(InvoiceDate,1,4)='2020'\n",
    " group by userID)\n",
    " \n",
    " select UserName,userID,max(c)\n",
    " from CTE\n",
    " JOIN Users_3NF\n",
    " USING (UserID)"
   ]
  },
  {
   "cell_type": "markdown",
   "metadata": {
    "id": "A_5dz4coGE04"
   },
   "source": [
    "Q10) What is the total number of recorded users that shop at Bhejane?"
   ]
  },
  {
   "cell_type": "code",
   "execution_count": 168,
   "metadata": {
    "id": "gVDNbI7pGE04"
   },
   "outputs": [
    {
     "name": "stdout",
     "output_type": "stream",
     "text": [
      "Query started at 09:27:40 PM SAST; Query executed in 0.00 m"
     ]
    },
    {
     "data": {
      "text/html": [
       "<div>\n",
       "<style scoped>\n",
       "    .dataframe tbody tr th:only-of-type {\n",
       "        vertical-align: middle;\n",
       "    }\n",
       "\n",
       "    .dataframe tbody tr th {\n",
       "        vertical-align: top;\n",
       "    }\n",
       "\n",
       "    .dataframe thead th {\n",
       "        text-align: right;\n",
       "    }\n",
       "</style>\n",
       "<table border=\"1\" class=\"dataframe\">\n",
       "  <thead>\n",
       "    <tr style=\"text-align: right;\">\n",
       "      <th></th>\n",
       "      <th>count(UserId)</th>\n",
       "    </tr>\n",
       "  </thead>\n",
       "  <tbody>\n",
       "    <tr>\n",
       "      <th>0</th>\n",
       "      <td>160</td>\n",
       "    </tr>\n",
       "  </tbody>\n",
       "</table>\n",
       "</div>"
      ],
      "text/plain": [
       "   count(UserId)\n",
       "0            160"
      ]
     },
     "execution_count": 168,
     "metadata": {},
     "output_type": "execute_result"
    }
   ],
   "source": [
    "%%read_sql\n",
    "-- Write your query here:\n",
    "/* please note that i did not get the answers listed so i picked the closest to the one \n",
    "i have which is 158 on the listed answers */\n",
    "select count(UserId)\n",
    "FROM Users_3NF\n"
   ]
  },
  {
   "cell_type": "markdown",
   "metadata": {
    "id": "8AS0LCOaGE04"
   },
   "source": [
    "Q11) What is the record count for the Colours_3NF Table?"
   ]
  },
  {
   "cell_type": "code",
   "execution_count": 77,
   "metadata": {
    "id": "9UdfWoubGE04"
   },
   "outputs": [
    {
     "name": "stdout",
     "output_type": "stream",
     "text": [
      "Query started at 07:00:01 PM SAST; Query executed in 0.00 m"
     ]
    },
    {
     "data": {
      "text/html": [
       "<div>\n",
       "<style scoped>\n",
       "    .dataframe tbody tr th:only-of-type {\n",
       "        vertical-align: middle;\n",
       "    }\n",
       "\n",
       "    .dataframe tbody tr th {\n",
       "        vertical-align: top;\n",
       "    }\n",
       "\n",
       "    .dataframe thead th {\n",
       "        text-align: right;\n",
       "    }\n",
       "</style>\n",
       "<table border=\"1\" class=\"dataframe\">\n",
       "  <thead>\n",
       "    <tr style=\"text-align: right;\">\n",
       "      <th></th>\n",
       "      <th>count(ColourID)</th>\n",
       "    </tr>\n",
       "  </thead>\n",
       "  <tbody>\n",
       "    <tr>\n",
       "      <th>0</th>\n",
       "      <td>17</td>\n",
       "    </tr>\n",
       "  </tbody>\n",
       "</table>\n",
       "</div>"
      ],
      "text/plain": [
       "   count(ColourID)\n",
       "0               17"
      ]
     },
     "execution_count": 77,
     "metadata": {},
     "output_type": "execute_result"
    }
   ],
   "source": [
    "%%read_sql\n",
    "-- Write your query here:\n",
    "SELECT count(ColourID)\n",
    "FROM Colours_3NF"
   ]
  },
  {
   "cell_type": "markdown",
   "metadata": {
    "id": "cfQAeUYhGE04"
   },
   "source": [
    "Q12) What would the total price be if I had the following items in my cart?\n",
    "* MPTAL57588104\n",
    "* 5000394203921\n",
    "* 6932391917652"
   ]
  },
  {
   "cell_type": "code",
   "execution_count": 82,
   "metadata": {
    "id": "K9fGfD9mGE04"
   },
   "outputs": [
    {
     "name": "stdout",
     "output_type": "stream",
     "text": [
      "Query started at 07:06:25 PM SAST; Query executed in 0.00 m"
     ]
    },
    {
     "data": {
      "text/html": [
       "<div>\n",
       "<style scoped>\n",
       "    .dataframe tbody tr th:only-of-type {\n",
       "        vertical-align: middle;\n",
       "    }\n",
       "\n",
       "    .dataframe tbody tr th {\n",
       "        vertical-align: top;\n",
       "    }\n",
       "\n",
       "    .dataframe thead th {\n",
       "        text-align: right;\n",
       "    }\n",
       "</style>\n",
       "<table border=\"1\" class=\"dataframe\">\n",
       "  <thead>\n",
       "    <tr style=\"text-align: right;\">\n",
       "      <th></th>\n",
       "      <th>sum(Price)</th>\n",
       "    </tr>\n",
       "  </thead>\n",
       "  <tbody>\n",
       "    <tr>\n",
       "      <th>0</th>\n",
       "      <td>734.0</td>\n",
       "    </tr>\n",
       "  </tbody>\n",
       "</table>\n",
       "</div>"
      ],
      "text/plain": [
       "   sum(Price)\n",
       "0       734.0"
      ]
     },
     "execution_count": 82,
     "metadata": {},
     "output_type": "execute_result"
    }
   ],
   "source": [
    "%%read_sql\n",
    "-- Write your query here\n",
    "WITH CTE AS \n",
    "(SELECT distinct Barcode,Price \n",
    "from Products_3NF\n",
    "where Barcode in ('MPTAL57588104','5000394203921','6932391917652'))\n",
    "\n",
    "select sum(Price)\n",
    "from CTE"
   ]
  },
  {
   "cell_type": "markdown",
   "metadata": {
    "id": "DGhN2UuaGE04"
   },
   "source": [
    "Q13) What is the barcode of the most sold product?"
   ]
  },
  {
   "cell_type": "code",
   "execution_count": 163,
   "metadata": {
    "id": "t5w4A2l1GE04"
   },
   "outputs": [
    {
     "name": "stdout",
     "output_type": "stream",
     "text": [
      "Query started at 09:21:39 PM SAST; Query executed in 0.00 m"
     ]
    },
    {
     "data": {
      "text/html": [
       "<div>\n",
       "<style scoped>\n",
       "    .dataframe tbody tr th:only-of-type {\n",
       "        vertical-align: middle;\n",
       "    }\n",
       "\n",
       "    .dataframe tbody tr th {\n",
       "        vertical-align: top;\n",
       "    }\n",
       "\n",
       "    .dataframe thead th {\n",
       "        text-align: right;\n",
       "    }\n",
       "</style>\n",
       "<table border=\"1\" class=\"dataframe\">\n",
       "  <thead>\n",
       "    <tr style=\"text-align: right;\">\n",
       "      <th></th>\n",
       "      <th>Barcode</th>\n",
       "      <th>c</th>\n",
       "    </tr>\n",
       "  </thead>\n",
       "  <tbody>\n",
       "    <tr>\n",
       "      <th>0</th>\n",
       "      <td>4015400541813</td>\n",
       "      <td>4</td>\n",
       "    </tr>\n",
       "    <tr>\n",
       "      <th>1</th>\n",
       "      <td>MPTAL00404857</td>\n",
       "      <td>3</td>\n",
       "    </tr>\n",
       "  </tbody>\n",
       "</table>\n",
       "</div>"
      ],
      "text/plain": [
       "         Barcode  c\n",
       "0  4015400541813  4\n",
       "1  MPTAL00404857  3"
      ]
     },
     "execution_count": 163,
     "metadata": {},
     "output_type": "execute_result"
    }
   ],
   "source": [
    "%%read_sql\n",
    "\n",
    "-- Write your query here\n",
    "\n",
    "select Barcode,count(Barcode) as c\n",
    "from Transactions_3NF\n",
    "Group by Barcode\n",
    "order by c desc\n",
    "limit 2"
   ]
  },
  {
   "cell_type": "markdown",
   "metadata": {
    "id": "TINkZg-7GE05"
   },
   "source": [
    "Q14) What are the products of Cornelis’ cart on the 2020-06-28 0:00:00?"
   ]
  },
  {
   "cell_type": "code",
   "execution_count": 94,
   "metadata": {
    "id": "82Bmwr7bGE05",
    "scrolled": true
   },
   "outputs": [
    {
     "name": "stdout",
     "output_type": "stream",
     "text": [
      "Query started at 07:27:05 PM SAST; Query executed in 0.00 m"
     ]
    },
    {
     "data": {
      "text/html": [
       "<div>\n",
       "<style scoped>\n",
       "    .dataframe tbody tr th:only-of-type {\n",
       "        vertical-align: middle;\n",
       "    }\n",
       "\n",
       "    .dataframe tbody tr th {\n",
       "        vertical-align: top;\n",
       "    }\n",
       "\n",
       "    .dataframe thead th {\n",
       "        text-align: right;\n",
       "    }\n",
       "</style>\n",
       "<table border=\"1\" class=\"dataframe\">\n",
       "  <thead>\n",
       "    <tr style=\"text-align: right;\">\n",
       "      <th></th>\n",
       "      <th>ProductDescription</th>\n",
       "    </tr>\n",
       "  </thead>\n",
       "  <tbody>\n",
       "    <tr>\n",
       "      <th>0</th>\n",
       "      <td>Dettol Body Wash - Shower Gel - Original - 600ml</td>\n",
       "    </tr>\n",
       "    <tr>\n",
       "      <th>1</th>\n",
       "      <td>Vitality Aloe Vera Gel 100ml</td>\n",
       "    </tr>\n",
       "    <tr>\n",
       "      <th>2</th>\n",
       "      <td>Sparq Active Resistance Loop Band - Set of 5 w...</td>\n",
       "    </tr>\n",
       "    <tr>\n",
       "      <th>3</th>\n",
       "      <td>Protective Face Shield</td>\n",
       "    </tr>\n",
       "  </tbody>\n",
       "</table>\n",
       "</div>"
      ],
      "text/plain": [
       "                                  ProductDescription\n",
       "0   Dettol Body Wash - Shower Gel - Original - 600ml\n",
       "1                       Vitality Aloe Vera Gel 100ml\n",
       "2  Sparq Active Resistance Loop Band - Set of 5 w...\n",
       "3                             Protective Face Shield"
      ]
     },
     "execution_count": 94,
     "metadata": {},
     "output_type": "execute_result"
    }
   ],
   "source": [
    "%%read_sql\n",
    "-- Write your query here:\n",
    "SELECT distinct ProductDescription\n",
    "from Users_3NF\n",
    "join Transactions_3NF\n",
    "USING(UserID)\n",
    "JOIN Products_3NF\n",
    "USING(Barcode)\n",
    "Where UserName='Cornelis' and InvoiceDate='2020-06-28 0:00:00'"
   ]
  },
  {
   "cell_type": "markdown",
   "metadata": {},
   "source": [
    "Q15) Which users bought locally produced, black-coloured products on odd-numbered months of the year, and what was the total cost (rounded to the nearest integer) of these products?"
   ]
  },
  {
   "cell_type": "code",
   "execution_count": 144,
   "metadata": {},
   "outputs": [
    {
     "name": "stdout",
     "output_type": "stream",
     "text": [
      "Query started at 08:48:12 PM SAST; Query executed in 0.00 m"
     ]
    },
    {
     "data": {
      "text/html": [
       "<div>\n",
       "<style scoped>\n",
       "    .dataframe tbody tr th:only-of-type {\n",
       "        vertical-align: middle;\n",
       "    }\n",
       "\n",
       "    .dataframe tbody tr th {\n",
       "        vertical-align: top;\n",
       "    }\n",
       "\n",
       "    .dataframe thead th {\n",
       "        text-align: right;\n",
       "    }\n",
       "</style>\n",
       "<table border=\"1\" class=\"dataframe\">\n",
       "  <thead>\n",
       "    <tr style=\"text-align: right;\">\n",
       "      <th></th>\n",
       "      <th>sum(Total)</th>\n",
       "    </tr>\n",
       "  </thead>\n",
       "  <tbody>\n",
       "    <tr>\n",
       "      <th>0</th>\n",
       "      <td>5580.0</td>\n",
       "    </tr>\n",
       "  </tbody>\n",
       "</table>\n",
       "</div>"
      ],
      "text/plain": [
       "   sum(Total)\n",
       "0      5580.0"
      ]
     },
     "execution_count": 144,
     "metadata": {},
     "output_type": "execute_result"
    }
   ],
   "source": [
    "%%read_sql\n",
    "\n",
    "--Write your query here\n",
    "-- Kindly note that I've only shown the total but to see the usernames, you can use this query: select UserName from CTE\n",
    "WITH CTE AS\n",
    "(select Distinct(UserName),Total\n",
    "from Users_3NF\n",
    "JOIN Transactions_3NF\n",
    " USING(UserID)\n",
    "JOIN Products_3NF\n",
    " USING(Barcode)\n",
    "JOIN Locations_3NF\n",
    " USING(LocationID)\n",
    "Join Colours_3NF\n",
    " USING(ColourID)\n",
    "\n",
    "WHERE StockCountry='South Africa' \n",
    " AND Colour='Black'\n",
    " And substr(InvoiceDate,1,7) IN ('2020-01','2020-03','2020-05','2020-07','2020-09','2020-11')\n",
    " )\n",
    " \n",
    "SELECT sum(Total)\n",
    "from CTE"
   ]
  },
  {
   "cell_type": "code",
   "execution_count": 146,
   "metadata": {},
   "outputs": [
    {
     "name": "stdout",
     "output_type": "stream",
     "text": [
      "Query started at 08:53:25 PM SAST; Query executed in 0.00 m"
     ]
    },
    {
     "data": {
      "text/html": [
       "<div>\n",
       "<style scoped>\n",
       "    .dataframe tbody tr th:only-of-type {\n",
       "        vertical-align: middle;\n",
       "    }\n",
       "\n",
       "    .dataframe tbody tr th {\n",
       "        vertical-align: top;\n",
       "    }\n",
       "\n",
       "    .dataframe thead th {\n",
       "        text-align: right;\n",
       "    }\n",
       "</style>\n",
       "<table border=\"1\" class=\"dataframe\">\n",
       "  <thead>\n",
       "    <tr style=\"text-align: right;\">\n",
       "      <th></th>\n",
       "      <th>ColourID</th>\n",
       "      <th>Colour</th>\n",
       "    </tr>\n",
       "  </thead>\n",
       "  <tbody>\n",
       "    <tr>\n",
       "      <th>0</th>\n",
       "      <td>1</td>\n",
       "      <td>Grey</td>\n",
       "    </tr>\n",
       "  </tbody>\n",
       "</table>\n",
       "</div>"
      ],
      "text/plain": [
       "   ColourID Colour\n",
       "0         1   Grey"
      ]
     },
     "execution_count": 146,
     "metadata": {},
     "output_type": "execute_result"
    }
   ],
   "source": [
    "%%read_sql\n",
    "-- scratch work\n",
    "select * from Colours_3NF\n",
    "limit 1"
   ]
  },
  {
   "cell_type": "code",
   "execution_count": 145,
   "metadata": {},
   "outputs": [
    {
     "name": "stdout",
     "output_type": "stream",
     "text": [
      "Query started at 08:52:51 PM SAST; Query executed in 0.00 m"
     ]
    },
    {
     "data": {
      "text/html": [
       "<div>\n",
       "<style scoped>\n",
       "    .dataframe tbody tr th:only-of-type {\n",
       "        vertical-align: middle;\n",
       "    }\n",
       "\n",
       "    .dataframe tbody tr th {\n",
       "        vertical-align: top;\n",
       "    }\n",
       "\n",
       "    .dataframe thead th {\n",
       "        text-align: right;\n",
       "    }\n",
       "</style>\n",
       "<table border=\"1\" class=\"dataframe\">\n",
       "  <thead>\n",
       "    <tr style=\"text-align: right;\">\n",
       "      <th></th>\n",
       "      <th>substr(InvoiceDate,1,7)</th>\n",
       "    </tr>\n",
       "  </thead>\n",
       "  <tbody>\n",
       "    <tr>\n",
       "      <th>0</th>\n",
       "      <td>2020-07</td>\n",
       "    </tr>\n",
       "  </tbody>\n",
       "</table>\n",
       "</div>"
      ],
      "text/plain": [
       "  substr(InvoiceDate,1,7)\n",
       "0                 2020-07"
      ]
     },
     "execution_count": 145,
     "metadata": {},
     "output_type": "execute_result"
    }
   ],
   "source": [
    "%%read_sql\n",
    "---scratch work\n",
    "--,'03','05','07','09','11'\n",
    "\n",
    "select substr(InvoiceDate,1,7)\n",
    "from Transactions_3NF\n",
    "\n",
    "LIMIT 1"
   ]
  },
  {
   "cell_type": "code",
   "execution_count": null,
   "metadata": {},
   "outputs": [],
   "source": []
  }
 ],
 "metadata": {
  "colab": {
   "collapsed_sections": [],
   "name": "SQL_Predict_Student_Notebook.ipynb",
   "provenance": []
  },
  "kernelspec": {
   "display_name": "Python 3",
   "language": "python",
   "name": "python3"
  },
  "language_info": {
   "codemirror_mode": {
    "name": "ipython",
    "version": 3
   },
   "file_extension": ".py",
   "mimetype": "text/x-python",
   "name": "python",
   "nbconvert_exporter": "python",
   "pygments_lexer": "ipython3",
   "version": "3.9.1"
  }
 },
 "nbformat": 4,
 "nbformat_minor": 4
}
